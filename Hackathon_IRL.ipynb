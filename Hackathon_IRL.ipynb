{
 "cells": [
  {
   "cell_type": "code",
   "execution_count": 1,
   "id": "a10b6d08",
   "metadata": {
    "ExecuteTime": {
     "end_time": "2023-11-25T10:14:12.594103Z",
     "start_time": "2023-11-25T10:14:09.355416Z"
    }
   },
   "outputs": [],
   "source": [
    "import numpy as np\n",
    "import pandas as pd\n",
    "import matplotlib.pyplot as plt\n",
    "import seaborn as sns"
   ]
  },
  {
   "cell_type": "code",
   "execution_count": 2,
   "id": "f5835579",
   "metadata": {
    "ExecuteTime": {
     "end_time": "2023-11-25T10:14:12.909202Z",
     "start_time": "2023-11-25T10:14:12.597542Z"
    }
   },
   "outputs": [],
   "source": [
    "df1 = pd.read_csv('deliveries.csv')"
   ]
  },
  {
   "cell_type": "code",
   "execution_count": 3,
   "id": "f3109a39",
   "metadata": {
    "ExecuteTime": {
     "end_time": "2023-11-25T10:14:12.924835Z",
     "start_time": "2023-11-25T10:14:12.909202Z"
    }
   },
   "outputs": [],
   "source": [
    "df2 = pd.read_csv('matches.csv')"
   ]
  },
  {
   "cell_type": "code",
   "execution_count": 4,
   "id": "7296c11b",
   "metadata": {
    "ExecuteTime": {
     "end_time": "2023-11-25T10:14:12.972359Z",
     "start_time": "2023-11-25T10:14:12.924835Z"
    }
   },
   "outputs": [
    {
     "data": {
      "text/html": [
       "<div>\n",
       "<style scoped>\n",
       "    .dataframe tbody tr th:only-of-type {\n",
       "        vertical-align: middle;\n",
       "    }\n",
       "\n",
       "    .dataframe tbody tr th {\n",
       "        vertical-align: top;\n",
       "    }\n",
       "\n",
       "    .dataframe thead th {\n",
       "        text-align: right;\n",
       "    }\n",
       "</style>\n",
       "<table border=\"1\" class=\"dataframe\">\n",
       "  <thead>\n",
       "    <tr style=\"text-align: right;\">\n",
       "      <th></th>\n",
       "      <th>match_id</th>\n",
       "      <th>inning</th>\n",
       "      <th>batting_team</th>\n",
       "      <th>bowling_team</th>\n",
       "      <th>over</th>\n",
       "      <th>ball</th>\n",
       "      <th>batsman</th>\n",
       "      <th>non_striker</th>\n",
       "      <th>bowler</th>\n",
       "      <th>is_super_over</th>\n",
       "      <th>...</th>\n",
       "      <th>bye_runs</th>\n",
       "      <th>legbye_runs</th>\n",
       "      <th>noball_runs</th>\n",
       "      <th>penalty_runs</th>\n",
       "      <th>batsman_runs</th>\n",
       "      <th>extra_runs</th>\n",
       "      <th>total_runs</th>\n",
       "      <th>player_dismissed</th>\n",
       "      <th>dismissal_kind</th>\n",
       "      <th>fielder</th>\n",
       "    </tr>\n",
       "  </thead>\n",
       "  <tbody>\n",
       "    <tr>\n",
       "      <th>0</th>\n",
       "      <td>1</td>\n",
       "      <td>1</td>\n",
       "      <td>Sunrisers Hyderabad</td>\n",
       "      <td>Royal Challengers Bangalore</td>\n",
       "      <td>1</td>\n",
       "      <td>1</td>\n",
       "      <td>DA Warner</td>\n",
       "      <td>S Dhawan</td>\n",
       "      <td>TS Mills</td>\n",
       "      <td>0</td>\n",
       "      <td>...</td>\n",
       "      <td>0</td>\n",
       "      <td>0</td>\n",
       "      <td>0</td>\n",
       "      <td>0</td>\n",
       "      <td>0</td>\n",
       "      <td>0</td>\n",
       "      <td>0</td>\n",
       "      <td>NaN</td>\n",
       "      <td>NaN</td>\n",
       "      <td>NaN</td>\n",
       "    </tr>\n",
       "    <tr>\n",
       "      <th>1</th>\n",
       "      <td>1</td>\n",
       "      <td>1</td>\n",
       "      <td>Sunrisers Hyderabad</td>\n",
       "      <td>Royal Challengers Bangalore</td>\n",
       "      <td>1</td>\n",
       "      <td>2</td>\n",
       "      <td>DA Warner</td>\n",
       "      <td>S Dhawan</td>\n",
       "      <td>TS Mills</td>\n",
       "      <td>0</td>\n",
       "      <td>...</td>\n",
       "      <td>0</td>\n",
       "      <td>0</td>\n",
       "      <td>0</td>\n",
       "      <td>0</td>\n",
       "      <td>0</td>\n",
       "      <td>0</td>\n",
       "      <td>0</td>\n",
       "      <td>NaN</td>\n",
       "      <td>NaN</td>\n",
       "      <td>NaN</td>\n",
       "    </tr>\n",
       "    <tr>\n",
       "      <th>2</th>\n",
       "      <td>1</td>\n",
       "      <td>1</td>\n",
       "      <td>Sunrisers Hyderabad</td>\n",
       "      <td>Royal Challengers Bangalore</td>\n",
       "      <td>1</td>\n",
       "      <td>3</td>\n",
       "      <td>DA Warner</td>\n",
       "      <td>S Dhawan</td>\n",
       "      <td>TS Mills</td>\n",
       "      <td>0</td>\n",
       "      <td>...</td>\n",
       "      <td>0</td>\n",
       "      <td>0</td>\n",
       "      <td>0</td>\n",
       "      <td>0</td>\n",
       "      <td>4</td>\n",
       "      <td>0</td>\n",
       "      <td>4</td>\n",
       "      <td>NaN</td>\n",
       "      <td>NaN</td>\n",
       "      <td>NaN</td>\n",
       "    </tr>\n",
       "    <tr>\n",
       "      <th>3</th>\n",
       "      <td>1</td>\n",
       "      <td>1</td>\n",
       "      <td>Sunrisers Hyderabad</td>\n",
       "      <td>Royal Challengers Bangalore</td>\n",
       "      <td>1</td>\n",
       "      <td>4</td>\n",
       "      <td>DA Warner</td>\n",
       "      <td>S Dhawan</td>\n",
       "      <td>TS Mills</td>\n",
       "      <td>0</td>\n",
       "      <td>...</td>\n",
       "      <td>0</td>\n",
       "      <td>0</td>\n",
       "      <td>0</td>\n",
       "      <td>0</td>\n",
       "      <td>0</td>\n",
       "      <td>0</td>\n",
       "      <td>0</td>\n",
       "      <td>NaN</td>\n",
       "      <td>NaN</td>\n",
       "      <td>NaN</td>\n",
       "    </tr>\n",
       "    <tr>\n",
       "      <th>4</th>\n",
       "      <td>1</td>\n",
       "      <td>1</td>\n",
       "      <td>Sunrisers Hyderabad</td>\n",
       "      <td>Royal Challengers Bangalore</td>\n",
       "      <td>1</td>\n",
       "      <td>5</td>\n",
       "      <td>DA Warner</td>\n",
       "      <td>S Dhawan</td>\n",
       "      <td>TS Mills</td>\n",
       "      <td>0</td>\n",
       "      <td>...</td>\n",
       "      <td>0</td>\n",
       "      <td>0</td>\n",
       "      <td>0</td>\n",
       "      <td>0</td>\n",
       "      <td>0</td>\n",
       "      <td>2</td>\n",
       "      <td>2</td>\n",
       "      <td>NaN</td>\n",
       "      <td>NaN</td>\n",
       "      <td>NaN</td>\n",
       "    </tr>\n",
       "  </tbody>\n",
       "</table>\n",
       "<p>5 rows × 21 columns</p>\n",
       "</div>"
      ],
      "text/plain": [
       "   match_id  inning         batting_team                 bowling_team  over  \\\n",
       "0         1       1  Sunrisers Hyderabad  Royal Challengers Bangalore     1   \n",
       "1         1       1  Sunrisers Hyderabad  Royal Challengers Bangalore     1   \n",
       "2         1       1  Sunrisers Hyderabad  Royal Challengers Bangalore     1   \n",
       "3         1       1  Sunrisers Hyderabad  Royal Challengers Bangalore     1   \n",
       "4         1       1  Sunrisers Hyderabad  Royal Challengers Bangalore     1   \n",
       "\n",
       "   ball    batsman non_striker    bowler  is_super_over  ...  bye_runs  \\\n",
       "0     1  DA Warner    S Dhawan  TS Mills              0  ...         0   \n",
       "1     2  DA Warner    S Dhawan  TS Mills              0  ...         0   \n",
       "2     3  DA Warner    S Dhawan  TS Mills              0  ...         0   \n",
       "3     4  DA Warner    S Dhawan  TS Mills              0  ...         0   \n",
       "4     5  DA Warner    S Dhawan  TS Mills              0  ...         0   \n",
       "\n",
       "   legbye_runs  noball_runs  penalty_runs  batsman_runs  extra_runs  \\\n",
       "0            0            0             0             0           0   \n",
       "1            0            0             0             0           0   \n",
       "2            0            0             0             4           0   \n",
       "3            0            0             0             0           0   \n",
       "4            0            0             0             0           2   \n",
       "\n",
       "   total_runs  player_dismissed dismissal_kind fielder  \n",
       "0           0               NaN            NaN     NaN  \n",
       "1           0               NaN            NaN     NaN  \n",
       "2           4               NaN            NaN     NaN  \n",
       "3           0               NaN            NaN     NaN  \n",
       "4           2               NaN            NaN     NaN  \n",
       "\n",
       "[5 rows x 21 columns]"
      ]
     },
     "execution_count": 4,
     "metadata": {},
     "output_type": "execute_result"
    }
   ],
   "source": [
    "df1.head()"
   ]
  },
  {
   "cell_type": "code",
   "execution_count": 5,
   "id": "bc65b706",
   "metadata": {
    "ExecuteTime": {
     "end_time": "2023-11-25T10:14:13.003836Z",
     "start_time": "2023-11-25T10:14:12.972359Z"
    }
   },
   "outputs": [
    {
     "data": {
      "text/html": [
       "<div>\n",
       "<style scoped>\n",
       "    .dataframe tbody tr th:only-of-type {\n",
       "        vertical-align: middle;\n",
       "    }\n",
       "\n",
       "    .dataframe tbody tr th {\n",
       "        vertical-align: top;\n",
       "    }\n",
       "\n",
       "    .dataframe thead th {\n",
       "        text-align: right;\n",
       "    }\n",
       "</style>\n",
       "<table border=\"1\" class=\"dataframe\">\n",
       "  <thead>\n",
       "    <tr style=\"text-align: right;\">\n",
       "      <th></th>\n",
       "      <th>id</th>\n",
       "      <th>season</th>\n",
       "      <th>city</th>\n",
       "      <th>date</th>\n",
       "      <th>team1</th>\n",
       "      <th>team2</th>\n",
       "      <th>toss_winner</th>\n",
       "      <th>toss_decision</th>\n",
       "      <th>result</th>\n",
       "      <th>dl_applied</th>\n",
       "      <th>winner</th>\n",
       "      <th>win_by_runs</th>\n",
       "      <th>win_by_wickets</th>\n",
       "      <th>player_of_match</th>\n",
       "      <th>venue</th>\n",
       "      <th>umpire1</th>\n",
       "      <th>umpire2</th>\n",
       "      <th>umpire3</th>\n",
       "    </tr>\n",
       "  </thead>\n",
       "  <tbody>\n",
       "    <tr>\n",
       "      <th>0</th>\n",
       "      <td>1</td>\n",
       "      <td>2017</td>\n",
       "      <td>Hyderabad</td>\n",
       "      <td>2017-04-05</td>\n",
       "      <td>Sunrisers Hyderabad</td>\n",
       "      <td>Royal Challengers Bangalore</td>\n",
       "      <td>Royal Challengers Bangalore</td>\n",
       "      <td>field</td>\n",
       "      <td>normal</td>\n",
       "      <td>0</td>\n",
       "      <td>Sunrisers Hyderabad</td>\n",
       "      <td>35</td>\n",
       "      <td>0</td>\n",
       "      <td>Yuvraj Singh</td>\n",
       "      <td>Rajiv Gandhi International Stadium, Uppal</td>\n",
       "      <td>AY Dandekar</td>\n",
       "      <td>NJ Llong</td>\n",
       "      <td>NaN</td>\n",
       "    </tr>\n",
       "    <tr>\n",
       "      <th>1</th>\n",
       "      <td>2</td>\n",
       "      <td>2017</td>\n",
       "      <td>Pune</td>\n",
       "      <td>2017-04-06</td>\n",
       "      <td>Mumbai Indians</td>\n",
       "      <td>Rising Pune Supergiant</td>\n",
       "      <td>Rising Pune Supergiant</td>\n",
       "      <td>field</td>\n",
       "      <td>normal</td>\n",
       "      <td>0</td>\n",
       "      <td>Rising Pune Supergiant</td>\n",
       "      <td>0</td>\n",
       "      <td>7</td>\n",
       "      <td>SPD Smith</td>\n",
       "      <td>Maharashtra Cricket Association Stadium</td>\n",
       "      <td>A Nand Kishore</td>\n",
       "      <td>S Ravi</td>\n",
       "      <td>NaN</td>\n",
       "    </tr>\n",
       "    <tr>\n",
       "      <th>2</th>\n",
       "      <td>3</td>\n",
       "      <td>2017</td>\n",
       "      <td>Rajkot</td>\n",
       "      <td>2017-04-07</td>\n",
       "      <td>Gujarat Lions</td>\n",
       "      <td>Kolkata Knight Riders</td>\n",
       "      <td>Kolkata Knight Riders</td>\n",
       "      <td>field</td>\n",
       "      <td>normal</td>\n",
       "      <td>0</td>\n",
       "      <td>Kolkata Knight Riders</td>\n",
       "      <td>0</td>\n",
       "      <td>10</td>\n",
       "      <td>CA Lynn</td>\n",
       "      <td>Saurashtra Cricket Association Stadium</td>\n",
       "      <td>Nitin Menon</td>\n",
       "      <td>CK Nandan</td>\n",
       "      <td>NaN</td>\n",
       "    </tr>\n",
       "    <tr>\n",
       "      <th>3</th>\n",
       "      <td>4</td>\n",
       "      <td>2017</td>\n",
       "      <td>Indore</td>\n",
       "      <td>2017-04-08</td>\n",
       "      <td>Rising Pune Supergiant</td>\n",
       "      <td>Kings XI Punjab</td>\n",
       "      <td>Kings XI Punjab</td>\n",
       "      <td>field</td>\n",
       "      <td>normal</td>\n",
       "      <td>0</td>\n",
       "      <td>Kings XI Punjab</td>\n",
       "      <td>0</td>\n",
       "      <td>6</td>\n",
       "      <td>GJ Maxwell</td>\n",
       "      <td>Holkar Cricket Stadium</td>\n",
       "      <td>AK Chaudhary</td>\n",
       "      <td>C Shamshuddin</td>\n",
       "      <td>NaN</td>\n",
       "    </tr>\n",
       "    <tr>\n",
       "      <th>4</th>\n",
       "      <td>5</td>\n",
       "      <td>2017</td>\n",
       "      <td>Bangalore</td>\n",
       "      <td>2017-04-08</td>\n",
       "      <td>Royal Challengers Bangalore</td>\n",
       "      <td>Delhi Daredevils</td>\n",
       "      <td>Royal Challengers Bangalore</td>\n",
       "      <td>bat</td>\n",
       "      <td>normal</td>\n",
       "      <td>0</td>\n",
       "      <td>Royal Challengers Bangalore</td>\n",
       "      <td>15</td>\n",
       "      <td>0</td>\n",
       "      <td>KM Jadhav</td>\n",
       "      <td>M Chinnaswamy Stadium</td>\n",
       "      <td>NaN</td>\n",
       "      <td>NaN</td>\n",
       "      <td>NaN</td>\n",
       "    </tr>\n",
       "  </tbody>\n",
       "</table>\n",
       "</div>"
      ],
      "text/plain": [
       "   id  season       city        date                        team1  \\\n",
       "0   1    2017  Hyderabad  2017-04-05          Sunrisers Hyderabad   \n",
       "1   2    2017       Pune  2017-04-06               Mumbai Indians   \n",
       "2   3    2017     Rajkot  2017-04-07                Gujarat Lions   \n",
       "3   4    2017     Indore  2017-04-08       Rising Pune Supergiant   \n",
       "4   5    2017  Bangalore  2017-04-08  Royal Challengers Bangalore   \n",
       "\n",
       "                         team2                  toss_winner toss_decision  \\\n",
       "0  Royal Challengers Bangalore  Royal Challengers Bangalore         field   \n",
       "1       Rising Pune Supergiant       Rising Pune Supergiant         field   \n",
       "2        Kolkata Knight Riders        Kolkata Knight Riders         field   \n",
       "3              Kings XI Punjab              Kings XI Punjab         field   \n",
       "4             Delhi Daredevils  Royal Challengers Bangalore           bat   \n",
       "\n",
       "   result  dl_applied                       winner  win_by_runs  \\\n",
       "0  normal           0          Sunrisers Hyderabad           35   \n",
       "1  normal           0       Rising Pune Supergiant            0   \n",
       "2  normal           0        Kolkata Knight Riders            0   \n",
       "3  normal           0              Kings XI Punjab            0   \n",
       "4  normal           0  Royal Challengers Bangalore           15   \n",
       "\n",
       "   win_by_wickets player_of_match                                      venue  \\\n",
       "0               0    Yuvraj Singh  Rajiv Gandhi International Stadium, Uppal   \n",
       "1               7       SPD Smith    Maharashtra Cricket Association Stadium   \n",
       "2              10         CA Lynn     Saurashtra Cricket Association Stadium   \n",
       "3               6      GJ Maxwell                     Holkar Cricket Stadium   \n",
       "4               0       KM Jadhav                      M Chinnaswamy Stadium   \n",
       "\n",
       "          umpire1        umpire2 umpire3  \n",
       "0     AY Dandekar       NJ Llong     NaN  \n",
       "1  A Nand Kishore         S Ravi     NaN  \n",
       "2     Nitin Menon      CK Nandan     NaN  \n",
       "3    AK Chaudhary  C Shamshuddin     NaN  \n",
       "4             NaN            NaN     NaN  "
      ]
     },
     "execution_count": 5,
     "metadata": {},
     "output_type": "execute_result"
    }
   ],
   "source": [
    "df2.head()"
   ]
  },
  {
   "cell_type": "code",
   "execution_count": 6,
   "id": "a58855bb",
   "metadata": {
    "ExecuteTime": {
     "end_time": "2023-11-25T10:14:13.019464Z",
     "start_time": "2023-11-25T10:14:13.003836Z"
    }
   },
   "outputs": [],
   "source": [
    "a = [df1,df2]"
   ]
  },
  {
   "cell_type": "code",
   "execution_count": 7,
   "id": "0dc2cbb0",
   "metadata": {
    "ExecuteTime": {
     "end_time": "2023-11-25T10:14:13.083640Z",
     "start_time": "2023-11-25T10:14:13.021279Z"
    }
   },
   "outputs": [],
   "source": [
    "df3 = pd.concat(a)"
   ]
  },
  {
   "cell_type": "code",
   "execution_count": 8,
   "id": "e7a74133",
   "metadata": {
    "ExecuteTime": {
     "end_time": "2023-11-25T10:14:13.209554Z",
     "start_time": "2023-11-25T10:14:13.088562Z"
    }
   },
   "outputs": [
    {
     "data": {
      "text/html": [
       "<div>\n",
       "<style scoped>\n",
       "    .dataframe tbody tr th:only-of-type {\n",
       "        vertical-align: middle;\n",
       "    }\n",
       "\n",
       "    .dataframe tbody tr th {\n",
       "        vertical-align: top;\n",
       "    }\n",
       "\n",
       "    .dataframe thead th {\n",
       "        text-align: right;\n",
       "    }\n",
       "</style>\n",
       "<table border=\"1\" class=\"dataframe\">\n",
       "  <thead>\n",
       "    <tr style=\"text-align: right;\">\n",
       "      <th></th>\n",
       "      <th>match_id</th>\n",
       "      <th>inning</th>\n",
       "      <th>batting_team</th>\n",
       "      <th>bowling_team</th>\n",
       "      <th>over</th>\n",
       "      <th>ball</th>\n",
       "      <th>batsman</th>\n",
       "      <th>non_striker</th>\n",
       "      <th>bowler</th>\n",
       "      <th>is_super_over</th>\n",
       "      <th>...</th>\n",
       "      <th>result</th>\n",
       "      <th>dl_applied</th>\n",
       "      <th>winner</th>\n",
       "      <th>win_by_runs</th>\n",
       "      <th>win_by_wickets</th>\n",
       "      <th>player_of_match</th>\n",
       "      <th>venue</th>\n",
       "      <th>umpire1</th>\n",
       "      <th>umpire2</th>\n",
       "      <th>umpire3</th>\n",
       "    </tr>\n",
       "  </thead>\n",
       "  <tbody>\n",
       "    <tr>\n",
       "      <th>0</th>\n",
       "      <td>1.0</td>\n",
       "      <td>1.0</td>\n",
       "      <td>Sunrisers Hyderabad</td>\n",
       "      <td>Royal Challengers Bangalore</td>\n",
       "      <td>1.0</td>\n",
       "      <td>1.0</td>\n",
       "      <td>DA Warner</td>\n",
       "      <td>S Dhawan</td>\n",
       "      <td>TS Mills</td>\n",
       "      <td>0.0</td>\n",
       "      <td>...</td>\n",
       "      <td>NaN</td>\n",
       "      <td>NaN</td>\n",
       "      <td>NaN</td>\n",
       "      <td>NaN</td>\n",
       "      <td>NaN</td>\n",
       "      <td>NaN</td>\n",
       "      <td>NaN</td>\n",
       "      <td>NaN</td>\n",
       "      <td>NaN</td>\n",
       "      <td>NaN</td>\n",
       "    </tr>\n",
       "    <tr>\n",
       "      <th>1</th>\n",
       "      <td>1.0</td>\n",
       "      <td>1.0</td>\n",
       "      <td>Sunrisers Hyderabad</td>\n",
       "      <td>Royal Challengers Bangalore</td>\n",
       "      <td>1.0</td>\n",
       "      <td>2.0</td>\n",
       "      <td>DA Warner</td>\n",
       "      <td>S Dhawan</td>\n",
       "      <td>TS Mills</td>\n",
       "      <td>0.0</td>\n",
       "      <td>...</td>\n",
       "      <td>NaN</td>\n",
       "      <td>NaN</td>\n",
       "      <td>NaN</td>\n",
       "      <td>NaN</td>\n",
       "      <td>NaN</td>\n",
       "      <td>NaN</td>\n",
       "      <td>NaN</td>\n",
       "      <td>NaN</td>\n",
       "      <td>NaN</td>\n",
       "      <td>NaN</td>\n",
       "    </tr>\n",
       "    <tr>\n",
       "      <th>2</th>\n",
       "      <td>1.0</td>\n",
       "      <td>1.0</td>\n",
       "      <td>Sunrisers Hyderabad</td>\n",
       "      <td>Royal Challengers Bangalore</td>\n",
       "      <td>1.0</td>\n",
       "      <td>3.0</td>\n",
       "      <td>DA Warner</td>\n",
       "      <td>S Dhawan</td>\n",
       "      <td>TS Mills</td>\n",
       "      <td>0.0</td>\n",
       "      <td>...</td>\n",
       "      <td>NaN</td>\n",
       "      <td>NaN</td>\n",
       "      <td>NaN</td>\n",
       "      <td>NaN</td>\n",
       "      <td>NaN</td>\n",
       "      <td>NaN</td>\n",
       "      <td>NaN</td>\n",
       "      <td>NaN</td>\n",
       "      <td>NaN</td>\n",
       "      <td>NaN</td>\n",
       "    </tr>\n",
       "    <tr>\n",
       "      <th>3</th>\n",
       "      <td>1.0</td>\n",
       "      <td>1.0</td>\n",
       "      <td>Sunrisers Hyderabad</td>\n",
       "      <td>Royal Challengers Bangalore</td>\n",
       "      <td>1.0</td>\n",
       "      <td>4.0</td>\n",
       "      <td>DA Warner</td>\n",
       "      <td>S Dhawan</td>\n",
       "      <td>TS Mills</td>\n",
       "      <td>0.0</td>\n",
       "      <td>...</td>\n",
       "      <td>NaN</td>\n",
       "      <td>NaN</td>\n",
       "      <td>NaN</td>\n",
       "      <td>NaN</td>\n",
       "      <td>NaN</td>\n",
       "      <td>NaN</td>\n",
       "      <td>NaN</td>\n",
       "      <td>NaN</td>\n",
       "      <td>NaN</td>\n",
       "      <td>NaN</td>\n",
       "    </tr>\n",
       "    <tr>\n",
       "      <th>4</th>\n",
       "      <td>1.0</td>\n",
       "      <td>1.0</td>\n",
       "      <td>Sunrisers Hyderabad</td>\n",
       "      <td>Royal Challengers Bangalore</td>\n",
       "      <td>1.0</td>\n",
       "      <td>5.0</td>\n",
       "      <td>DA Warner</td>\n",
       "      <td>S Dhawan</td>\n",
       "      <td>TS Mills</td>\n",
       "      <td>0.0</td>\n",
       "      <td>...</td>\n",
       "      <td>NaN</td>\n",
       "      <td>NaN</td>\n",
       "      <td>NaN</td>\n",
       "      <td>NaN</td>\n",
       "      <td>NaN</td>\n",
       "      <td>NaN</td>\n",
       "      <td>NaN</td>\n",
       "      <td>NaN</td>\n",
       "      <td>NaN</td>\n",
       "      <td>NaN</td>\n",
       "    </tr>\n",
       "    <tr>\n",
       "      <th>...</th>\n",
       "      <td>...</td>\n",
       "      <td>...</td>\n",
       "      <td>...</td>\n",
       "      <td>...</td>\n",
       "      <td>...</td>\n",
       "      <td>...</td>\n",
       "      <td>...</td>\n",
       "      <td>...</td>\n",
       "      <td>...</td>\n",
       "      <td>...</td>\n",
       "      <td>...</td>\n",
       "      <td>...</td>\n",
       "      <td>...</td>\n",
       "      <td>...</td>\n",
       "      <td>...</td>\n",
       "      <td>...</td>\n",
       "      <td>...</td>\n",
       "      <td>...</td>\n",
       "      <td>...</td>\n",
       "      <td>...</td>\n",
       "      <td>...</td>\n",
       "    </tr>\n",
       "    <tr>\n",
       "      <th>751</th>\n",
       "      <td>NaN</td>\n",
       "      <td>NaN</td>\n",
       "      <td>NaN</td>\n",
       "      <td>NaN</td>\n",
       "      <td>NaN</td>\n",
       "      <td>NaN</td>\n",
       "      <td>NaN</td>\n",
       "      <td>NaN</td>\n",
       "      <td>NaN</td>\n",
       "      <td>NaN</td>\n",
       "      <td>...</td>\n",
       "      <td>normal</td>\n",
       "      <td>0.0</td>\n",
       "      <td>Mumbai Indians</td>\n",
       "      <td>0.0</td>\n",
       "      <td>9.0</td>\n",
       "      <td>HH Pandya</td>\n",
       "      <td>Wankhede Stadium</td>\n",
       "      <td>Nanda Kishore</td>\n",
       "      <td>O Nandan</td>\n",
       "      <td>S Ravi</td>\n",
       "    </tr>\n",
       "    <tr>\n",
       "      <th>752</th>\n",
       "      <td>NaN</td>\n",
       "      <td>NaN</td>\n",
       "      <td>NaN</td>\n",
       "      <td>NaN</td>\n",
       "      <td>NaN</td>\n",
       "      <td>NaN</td>\n",
       "      <td>NaN</td>\n",
       "      <td>NaN</td>\n",
       "      <td>NaN</td>\n",
       "      <td>NaN</td>\n",
       "      <td>...</td>\n",
       "      <td>normal</td>\n",
       "      <td>0.0</td>\n",
       "      <td>Mumbai Indians</td>\n",
       "      <td>0.0</td>\n",
       "      <td>6.0</td>\n",
       "      <td>AS Yadav</td>\n",
       "      <td>M. A. Chidambaram Stadium</td>\n",
       "      <td>Nigel Llong</td>\n",
       "      <td>Nitin Menon</td>\n",
       "      <td>Ian Gould</td>\n",
       "    </tr>\n",
       "    <tr>\n",
       "      <th>753</th>\n",
       "      <td>NaN</td>\n",
       "      <td>NaN</td>\n",
       "      <td>NaN</td>\n",
       "      <td>NaN</td>\n",
       "      <td>NaN</td>\n",
       "      <td>NaN</td>\n",
       "      <td>NaN</td>\n",
       "      <td>NaN</td>\n",
       "      <td>NaN</td>\n",
       "      <td>NaN</td>\n",
       "      <td>...</td>\n",
       "      <td>normal</td>\n",
       "      <td>0.0</td>\n",
       "      <td>Delhi Capitals</td>\n",
       "      <td>0.0</td>\n",
       "      <td>2.0</td>\n",
       "      <td>RR Pant</td>\n",
       "      <td>ACA-VDCA Stadium</td>\n",
       "      <td>NaN</td>\n",
       "      <td>NaN</td>\n",
       "      <td>NaN</td>\n",
       "    </tr>\n",
       "    <tr>\n",
       "      <th>754</th>\n",
       "      <td>NaN</td>\n",
       "      <td>NaN</td>\n",
       "      <td>NaN</td>\n",
       "      <td>NaN</td>\n",
       "      <td>NaN</td>\n",
       "      <td>NaN</td>\n",
       "      <td>NaN</td>\n",
       "      <td>NaN</td>\n",
       "      <td>NaN</td>\n",
       "      <td>NaN</td>\n",
       "      <td>...</td>\n",
       "      <td>normal</td>\n",
       "      <td>0.0</td>\n",
       "      <td>Chennai Super Kings</td>\n",
       "      <td>0.0</td>\n",
       "      <td>6.0</td>\n",
       "      <td>F du Plessis</td>\n",
       "      <td>ACA-VDCA Stadium</td>\n",
       "      <td>Sundaram Ravi</td>\n",
       "      <td>Bruce Oxenford</td>\n",
       "      <td>Chettithody Shamshuddin</td>\n",
       "    </tr>\n",
       "    <tr>\n",
       "      <th>755</th>\n",
       "      <td>NaN</td>\n",
       "      <td>NaN</td>\n",
       "      <td>NaN</td>\n",
       "      <td>NaN</td>\n",
       "      <td>NaN</td>\n",
       "      <td>NaN</td>\n",
       "      <td>NaN</td>\n",
       "      <td>NaN</td>\n",
       "      <td>NaN</td>\n",
       "      <td>NaN</td>\n",
       "      <td>...</td>\n",
       "      <td>normal</td>\n",
       "      <td>0.0</td>\n",
       "      <td>Mumbai Indians</td>\n",
       "      <td>1.0</td>\n",
       "      <td>0.0</td>\n",
       "      <td>JJ Bumrah</td>\n",
       "      <td>Rajiv Gandhi Intl. Cricket Stadium</td>\n",
       "      <td>Nitin Menon</td>\n",
       "      <td>Ian Gould</td>\n",
       "      <td>Nigel Llong</td>\n",
       "    </tr>\n",
       "  </tbody>\n",
       "</table>\n",
       "<p>179834 rows × 39 columns</p>\n",
       "</div>"
      ],
      "text/plain": [
       "     match_id  inning         batting_team                 bowling_team  over  \\\n",
       "0         1.0     1.0  Sunrisers Hyderabad  Royal Challengers Bangalore   1.0   \n",
       "1         1.0     1.0  Sunrisers Hyderabad  Royal Challengers Bangalore   1.0   \n",
       "2         1.0     1.0  Sunrisers Hyderabad  Royal Challengers Bangalore   1.0   \n",
       "3         1.0     1.0  Sunrisers Hyderabad  Royal Challengers Bangalore   1.0   \n",
       "4         1.0     1.0  Sunrisers Hyderabad  Royal Challengers Bangalore   1.0   \n",
       "..        ...     ...                  ...                          ...   ...   \n",
       "751       NaN     NaN                  NaN                          NaN   NaN   \n",
       "752       NaN     NaN                  NaN                          NaN   NaN   \n",
       "753       NaN     NaN                  NaN                          NaN   NaN   \n",
       "754       NaN     NaN                  NaN                          NaN   NaN   \n",
       "755       NaN     NaN                  NaN                          NaN   NaN   \n",
       "\n",
       "     ball    batsman non_striker    bowler  is_super_over  ...  result  \\\n",
       "0     1.0  DA Warner    S Dhawan  TS Mills            0.0  ...     NaN   \n",
       "1     2.0  DA Warner    S Dhawan  TS Mills            0.0  ...     NaN   \n",
       "2     3.0  DA Warner    S Dhawan  TS Mills            0.0  ...     NaN   \n",
       "3     4.0  DA Warner    S Dhawan  TS Mills            0.0  ...     NaN   \n",
       "4     5.0  DA Warner    S Dhawan  TS Mills            0.0  ...     NaN   \n",
       "..    ...        ...         ...       ...            ...  ...     ...   \n",
       "751   NaN        NaN         NaN       NaN            NaN  ...  normal   \n",
       "752   NaN        NaN         NaN       NaN            NaN  ...  normal   \n",
       "753   NaN        NaN         NaN       NaN            NaN  ...  normal   \n",
       "754   NaN        NaN         NaN       NaN            NaN  ...  normal   \n",
       "755   NaN        NaN         NaN       NaN            NaN  ...  normal   \n",
       "\n",
       "     dl_applied               winner  win_by_runs  win_by_wickets  \\\n",
       "0           NaN                  NaN          NaN             NaN   \n",
       "1           NaN                  NaN          NaN             NaN   \n",
       "2           NaN                  NaN          NaN             NaN   \n",
       "3           NaN                  NaN          NaN             NaN   \n",
       "4           NaN                  NaN          NaN             NaN   \n",
       "..          ...                  ...          ...             ...   \n",
       "751         0.0       Mumbai Indians          0.0             9.0   \n",
       "752         0.0       Mumbai Indians          0.0             6.0   \n",
       "753         0.0       Delhi Capitals          0.0             2.0   \n",
       "754         0.0  Chennai Super Kings          0.0             6.0   \n",
       "755         0.0       Mumbai Indians          1.0             0.0   \n",
       "\n",
       "     player_of_match                               venue        umpire1  \\\n",
       "0                NaN                                 NaN            NaN   \n",
       "1                NaN                                 NaN            NaN   \n",
       "2                NaN                                 NaN            NaN   \n",
       "3                NaN                                 NaN            NaN   \n",
       "4                NaN                                 NaN            NaN   \n",
       "..               ...                                 ...            ...   \n",
       "751        HH Pandya                    Wankhede Stadium  Nanda Kishore   \n",
       "752         AS Yadav           M. A. Chidambaram Stadium    Nigel Llong   \n",
       "753          RR Pant                    ACA-VDCA Stadium            NaN   \n",
       "754     F du Plessis                    ACA-VDCA Stadium  Sundaram Ravi   \n",
       "755        JJ Bumrah  Rajiv Gandhi Intl. Cricket Stadium    Nitin Menon   \n",
       "\n",
       "            umpire2                  umpire3  \n",
       "0               NaN                      NaN  \n",
       "1               NaN                      NaN  \n",
       "2               NaN                      NaN  \n",
       "3               NaN                      NaN  \n",
       "4               NaN                      NaN  \n",
       "..              ...                      ...  \n",
       "751        O Nandan                   S Ravi  \n",
       "752     Nitin Menon                Ian Gould  \n",
       "753             NaN                      NaN  \n",
       "754  Bruce Oxenford  Chettithody Shamshuddin  \n",
       "755       Ian Gould              Nigel Llong  \n",
       "\n",
       "[179834 rows x 39 columns]"
      ]
     },
     "execution_count": 8,
     "metadata": {},
     "output_type": "execute_result"
    }
   ],
   "source": [
    "df3"
   ]
  },
  {
   "cell_type": "code",
   "execution_count": 9,
   "id": "47eadb14",
   "metadata": {
    "ExecuteTime": {
     "end_time": "2023-11-25T10:14:13.384022Z",
     "start_time": "2023-11-25T10:14:13.211297Z"
    }
   },
   "outputs": [
    {
     "name": "stdout",
     "output_type": "stream",
     "text": [
      "<class 'pandas.core.frame.DataFrame'>\n",
      "RangeIndex: 179078 entries, 0 to 179077\n",
      "Data columns (total 21 columns):\n",
      " #   Column            Non-Null Count   Dtype \n",
      "---  ------            --------------   ----- \n",
      " 0   match_id          179078 non-null  int64 \n",
      " 1   inning            179078 non-null  int64 \n",
      " 2   batting_team      179078 non-null  object\n",
      " 3   bowling_team      179078 non-null  object\n",
      " 4   over              179078 non-null  int64 \n",
      " 5   ball              179078 non-null  int64 \n",
      " 6   batsman           179078 non-null  object\n",
      " 7   non_striker       179078 non-null  object\n",
      " 8   bowler            179078 non-null  object\n",
      " 9   is_super_over     179078 non-null  int64 \n",
      " 10  wide_runs         179078 non-null  int64 \n",
      " 11  bye_runs          179078 non-null  int64 \n",
      " 12  legbye_runs       179078 non-null  int64 \n",
      " 13  noball_runs       179078 non-null  int64 \n",
      " 14  penalty_runs      179078 non-null  int64 \n",
      " 15  batsman_runs      179078 non-null  int64 \n",
      " 16  extra_runs        179078 non-null  int64 \n",
      " 17  total_runs        179078 non-null  int64 \n",
      " 18  player_dismissed  8834 non-null    object\n",
      " 19  dismissal_kind    8834 non-null    object\n",
      " 20  fielder           6448 non-null    object\n",
      "dtypes: int64(13), object(8)\n",
      "memory usage: 28.7+ MB\n"
     ]
    }
   ],
   "source": [
    "df1.info()"
   ]
  },
  {
   "cell_type": "code",
   "execution_count": 10,
   "id": "29d3b0bb",
   "metadata": {
    "ExecuteTime": {
     "end_time": "2023-11-25T10:14:13.400126Z",
     "start_time": "2023-11-25T10:14:13.384022Z"
    }
   },
   "outputs": [
    {
     "name": "stdout",
     "output_type": "stream",
     "text": [
      "<class 'pandas.core.frame.DataFrame'>\n",
      "RangeIndex: 756 entries, 0 to 755\n",
      "Data columns (total 18 columns):\n",
      " #   Column           Non-Null Count  Dtype \n",
      "---  ------           --------------  ----- \n",
      " 0   id               756 non-null    int64 \n",
      " 1   season           756 non-null    int64 \n",
      " 2   city             749 non-null    object\n",
      " 3   date             756 non-null    object\n",
      " 4   team1            756 non-null    object\n",
      " 5   team2            756 non-null    object\n",
      " 6   toss_winner      756 non-null    object\n",
      " 7   toss_decision    756 non-null    object\n",
      " 8   result           756 non-null    object\n",
      " 9   dl_applied       756 non-null    int64 \n",
      " 10  winner           752 non-null    object\n",
      " 11  win_by_runs      756 non-null    int64 \n",
      " 12  win_by_wickets   756 non-null    int64 \n",
      " 13  player_of_match  752 non-null    object\n",
      " 14  venue            756 non-null    object\n",
      " 15  umpire1          754 non-null    object\n",
      " 16  umpire2          754 non-null    object\n",
      " 17  umpire3          119 non-null    object\n",
      "dtypes: int64(5), object(13)\n",
      "memory usage: 106.4+ KB\n"
     ]
    }
   ],
   "source": [
    "df2.info()"
   ]
  },
  {
   "cell_type": "code",
   "execution_count": 11,
   "id": "114e53d6",
   "metadata": {
    "ExecuteTime": {
     "end_time": "2023-11-25T10:14:13.763144Z",
     "start_time": "2023-11-25T10:14:13.401412Z"
    }
   },
   "outputs": [
    {
     "name": "stdout",
     "output_type": "stream",
     "text": [
      "<class 'pandas.core.frame.DataFrame'>\n",
      "Int64Index: 179834 entries, 0 to 755\n",
      "Data columns (total 39 columns):\n",
      " #   Column            Non-Null Count   Dtype  \n",
      "---  ------            --------------   -----  \n",
      " 0   match_id          179078 non-null  float64\n",
      " 1   inning            179078 non-null  float64\n",
      " 2   batting_team      179078 non-null  object \n",
      " 3   bowling_team      179078 non-null  object \n",
      " 4   over              179078 non-null  float64\n",
      " 5   ball              179078 non-null  float64\n",
      " 6   batsman           179078 non-null  object \n",
      " 7   non_striker       179078 non-null  object \n",
      " 8   bowler            179078 non-null  object \n",
      " 9   is_super_over     179078 non-null  float64\n",
      " 10  wide_runs         179078 non-null  float64\n",
      " 11  bye_runs          179078 non-null  float64\n",
      " 12  legbye_runs       179078 non-null  float64\n",
      " 13  noball_runs       179078 non-null  float64\n",
      " 14  penalty_runs      179078 non-null  float64\n",
      " 15  batsman_runs      179078 non-null  float64\n",
      " 16  extra_runs        179078 non-null  float64\n",
      " 17  total_runs        179078 non-null  float64\n",
      " 18  player_dismissed  8834 non-null    object \n",
      " 19  dismissal_kind    8834 non-null    object \n",
      " 20  fielder           6448 non-null    object \n",
      " 21  id                756 non-null     float64\n",
      " 22  season            756 non-null     float64\n",
      " 23  city              749 non-null     object \n",
      " 24  date              756 non-null     object \n",
      " 25  team1             756 non-null     object \n",
      " 26  team2             756 non-null     object \n",
      " 27  toss_winner       756 non-null     object \n",
      " 28  toss_decision     756 non-null     object \n",
      " 29  result            756 non-null     object \n",
      " 30  dl_applied        756 non-null     float64\n",
      " 31  winner            752 non-null     object \n",
      " 32  win_by_runs       756 non-null     float64\n",
      " 33  win_by_wickets    756 non-null     float64\n",
      " 34  player_of_match   752 non-null     object \n",
      " 35  venue             756 non-null     object \n",
      " 36  umpire1           754 non-null     object \n",
      " 37  umpire2           754 non-null     object \n",
      " 38  umpire3           119 non-null     object \n",
      "dtypes: float64(18), object(21)\n",
      "memory usage: 54.9+ MB\n"
     ]
    }
   ],
   "source": [
    "df3.info()"
   ]
  },
  {
   "cell_type": "code",
   "execution_count": 12,
   "id": "b20bfe63",
   "metadata": {
    "ExecuteTime": {
     "end_time": "2023-11-25T10:14:14.111251Z",
     "start_time": "2023-11-25T10:14:13.764948Z"
    }
   },
   "outputs": [
    {
     "data": {
      "text/plain": [
       "match_id               756\n",
       "inning                 756\n",
       "batting_team           756\n",
       "bowling_team           756\n",
       "over                   756\n",
       "ball                   756\n",
       "batsman                756\n",
       "non_striker            756\n",
       "bowler                 756\n",
       "is_super_over          756\n",
       "wide_runs              756\n",
       "bye_runs               756\n",
       "legbye_runs            756\n",
       "noball_runs            756\n",
       "penalty_runs           756\n",
       "batsman_runs           756\n",
       "extra_runs             756\n",
       "total_runs             756\n",
       "player_dismissed    171000\n",
       "dismissal_kind      171000\n",
       "fielder             173386\n",
       "id                  179078\n",
       "season              179078\n",
       "city                179085\n",
       "date                179078\n",
       "team1               179078\n",
       "team2               179078\n",
       "toss_winner         179078\n",
       "toss_decision       179078\n",
       "result              179078\n",
       "dl_applied          179078\n",
       "winner              179082\n",
       "win_by_runs         179078\n",
       "win_by_wickets      179078\n",
       "player_of_match     179082\n",
       "venue               179078\n",
       "umpire1             179080\n",
       "umpire2             179080\n",
       "umpire3             179715\n",
       "dtype: int64"
      ]
     },
     "execution_count": 12,
     "metadata": {},
     "output_type": "execute_result"
    }
   ],
   "source": [
    "df3.isnull().sum()"
   ]
  },
  {
   "cell_type": "code",
   "execution_count": 13,
   "id": "d93d33db",
   "metadata": {
    "ExecuteTime": {
     "end_time": "2023-11-25T10:14:14.854433Z",
     "start_time": "2023-11-25T10:14:14.112800Z"
    }
   },
   "outputs": [],
   "source": [
    "df3.fillna(0, inplace=True)"
   ]
  },
  {
   "cell_type": "code",
   "execution_count": 14,
   "id": "5d7b2bfd",
   "metadata": {
    "ExecuteTime": {
     "end_time": "2023-11-25T10:14:15.246236Z",
     "start_time": "2023-11-25T10:14:14.855781Z"
    }
   },
   "outputs": [
    {
     "data": {
      "text/plain": [
       "match_id            0\n",
       "inning              0\n",
       "batting_team        0\n",
       "bowling_team        0\n",
       "over                0\n",
       "ball                0\n",
       "batsman             0\n",
       "non_striker         0\n",
       "bowler              0\n",
       "is_super_over       0\n",
       "wide_runs           0\n",
       "bye_runs            0\n",
       "legbye_runs         0\n",
       "noball_runs         0\n",
       "penalty_runs        0\n",
       "batsman_runs        0\n",
       "extra_runs          0\n",
       "total_runs          0\n",
       "player_dismissed    0\n",
       "dismissal_kind      0\n",
       "fielder             0\n",
       "id                  0\n",
       "season              0\n",
       "city                0\n",
       "date                0\n",
       "team1               0\n",
       "team2               0\n",
       "toss_winner         0\n",
       "toss_decision       0\n",
       "result              0\n",
       "dl_applied          0\n",
       "winner              0\n",
       "win_by_runs         0\n",
       "win_by_wickets      0\n",
       "player_of_match     0\n",
       "venue               0\n",
       "umpire1             0\n",
       "umpire2             0\n",
       "umpire3             0\n",
       "dtype: int64"
      ]
     },
     "execution_count": 14,
     "metadata": {},
     "output_type": "execute_result"
    }
   ],
   "source": [
    "df3.isna().sum()"
   ]
  },
  {
   "cell_type": "code",
   "execution_count": 15,
   "id": "b5c89f4e",
   "metadata": {
    "ExecuteTime": {
     "end_time": "2023-11-25T10:14:15.262196Z",
     "start_time": "2023-11-25T10:14:15.248295Z"
    }
   },
   "outputs": [
    {
     "data": {
      "text/plain": [
       "<bound method Series.mode of 0                  0\n",
       "1                  0\n",
       "2                  0\n",
       "3                  0\n",
       "4                  0\n",
       "           ...      \n",
       "751           Mumbai\n",
       "752          Chennai\n",
       "753    Visakhapatnam\n",
       "754    Visakhapatnam\n",
       "755        Hyderabad\n",
       "Name: city, Length: 179834, dtype: object>"
      ]
     },
     "execution_count": 15,
     "metadata": {},
     "output_type": "execute_result"
    }
   ],
   "source": [
    "df3['city'].mode"
   ]
  },
  {
   "cell_type": "code",
   "execution_count": 16,
   "id": "d5405f22",
   "metadata": {
    "ExecuteTime": {
     "end_time": "2023-11-25T10:14:15.293810Z",
     "start_time": "2023-11-25T10:14:15.262196Z"
    }
   },
   "outputs": [
    {
     "data": {
      "text/html": [
       "<div>\n",
       "<style scoped>\n",
       "    .dataframe tbody tr th:only-of-type {\n",
       "        vertical-align: middle;\n",
       "    }\n",
       "\n",
       "    .dataframe tbody tr th {\n",
       "        vertical-align: top;\n",
       "    }\n",
       "\n",
       "    .dataframe thead th {\n",
       "        text-align: right;\n",
       "    }\n",
       "</style>\n",
       "<table border=\"1\" class=\"dataframe\">\n",
       "  <thead>\n",
       "    <tr style=\"text-align: right;\">\n",
       "      <th></th>\n",
       "      <th>city</th>\n",
       "    </tr>\n",
       "  </thead>\n",
       "  <tbody>\n",
       "    <tr>\n",
       "      <th>0</th>\n",
       "      <td>179085</td>\n",
       "    </tr>\n",
       "    <tr>\n",
       "      <th>Mumbai</th>\n",
       "      <td>101</td>\n",
       "    </tr>\n",
       "    <tr>\n",
       "      <th>Kolkata</th>\n",
       "      <td>77</td>\n",
       "    </tr>\n",
       "    <tr>\n",
       "      <th>Delhi</th>\n",
       "      <td>74</td>\n",
       "    </tr>\n",
       "    <tr>\n",
       "      <th>Bangalore</th>\n",
       "      <td>66</td>\n",
       "    </tr>\n",
       "    <tr>\n",
       "      <th>Hyderabad</th>\n",
       "      <td>64</td>\n",
       "    </tr>\n",
       "    <tr>\n",
       "      <th>Chennai</th>\n",
       "      <td>57</td>\n",
       "    </tr>\n",
       "    <tr>\n",
       "      <th>Jaipur</th>\n",
       "      <td>47</td>\n",
       "    </tr>\n",
       "    <tr>\n",
       "      <th>Chandigarh</th>\n",
       "      <td>46</td>\n",
       "    </tr>\n",
       "    <tr>\n",
       "      <th>Pune</th>\n",
       "      <td>38</td>\n",
       "    </tr>\n",
       "    <tr>\n",
       "      <th>Durban</th>\n",
       "      <td>15</td>\n",
       "    </tr>\n",
       "    <tr>\n",
       "      <th>Bengaluru</th>\n",
       "      <td>14</td>\n",
       "    </tr>\n",
       "    <tr>\n",
       "      <th>Visakhapatnam</th>\n",
       "      <td>13</td>\n",
       "    </tr>\n",
       "    <tr>\n",
       "      <th>Centurion</th>\n",
       "      <td>12</td>\n",
       "    </tr>\n",
       "    <tr>\n",
       "      <th>Ahmedabad</th>\n",
       "      <td>12</td>\n",
       "    </tr>\n",
       "    <tr>\n",
       "      <th>Mohali</th>\n",
       "      <td>10</td>\n",
       "    </tr>\n",
       "    <tr>\n",
       "      <th>Rajkot</th>\n",
       "      <td>10</td>\n",
       "    </tr>\n",
       "    <tr>\n",
       "      <th>Dharamsala</th>\n",
       "      <td>9</td>\n",
       "    </tr>\n",
       "    <tr>\n",
       "      <th>Indore</th>\n",
       "      <td>9</td>\n",
       "    </tr>\n",
       "    <tr>\n",
       "      <th>Johannesburg</th>\n",
       "      <td>8</td>\n",
       "    </tr>\n",
       "    <tr>\n",
       "      <th>Abu Dhabi</th>\n",
       "      <td>7</td>\n",
       "    </tr>\n",
       "    <tr>\n",
       "      <th>Ranchi</th>\n",
       "      <td>7</td>\n",
       "    </tr>\n",
       "    <tr>\n",
       "      <th>Cuttack</th>\n",
       "      <td>7</td>\n",
       "    </tr>\n",
       "    <tr>\n",
       "      <th>Cape Town</th>\n",
       "      <td>7</td>\n",
       "    </tr>\n",
       "    <tr>\n",
       "      <th>Port Elizabeth</th>\n",
       "      <td>7</td>\n",
       "    </tr>\n",
       "    <tr>\n",
       "      <th>Raipur</th>\n",
       "      <td>6</td>\n",
       "    </tr>\n",
       "    <tr>\n",
       "      <th>Sharjah</th>\n",
       "      <td>6</td>\n",
       "    </tr>\n",
       "    <tr>\n",
       "      <th>Kochi</th>\n",
       "      <td>5</td>\n",
       "    </tr>\n",
       "    <tr>\n",
       "      <th>Kanpur</th>\n",
       "      <td>4</td>\n",
       "    </tr>\n",
       "    <tr>\n",
       "      <th>Nagpur</th>\n",
       "      <td>3</td>\n",
       "    </tr>\n",
       "    <tr>\n",
       "      <th>Kimberley</th>\n",
       "      <td>3</td>\n",
       "    </tr>\n",
       "    <tr>\n",
       "      <th>East London</th>\n",
       "      <td>3</td>\n",
       "    </tr>\n",
       "    <tr>\n",
       "      <th>Bloemfontein</th>\n",
       "      <td>2</td>\n",
       "    </tr>\n",
       "  </tbody>\n",
       "</table>\n",
       "</div>"
      ],
      "text/plain": [
       "                  city\n",
       "0               179085\n",
       "Mumbai             101\n",
       "Kolkata             77\n",
       "Delhi               74\n",
       "Bangalore           66\n",
       "Hyderabad           64\n",
       "Chennai             57\n",
       "Jaipur              47\n",
       "Chandigarh          46\n",
       "Pune                38\n",
       "Durban              15\n",
       "Bengaluru           14\n",
       "Visakhapatnam       13\n",
       "Centurion           12\n",
       "Ahmedabad           12\n",
       "Mohali              10\n",
       "Rajkot              10\n",
       "Dharamsala           9\n",
       "Indore               9\n",
       "Johannesburg         8\n",
       "Abu Dhabi            7\n",
       "Ranchi               7\n",
       "Cuttack              7\n",
       "Cape Town            7\n",
       "Port Elizabeth       7\n",
       "Raipur               6\n",
       "Sharjah              6\n",
       "Kochi                5\n",
       "Kanpur               4\n",
       "Nagpur               3\n",
       "Kimberley            3\n",
       "East London          3\n",
       "Bloemfontein         2"
      ]
     },
     "execution_count": 16,
     "metadata": {},
     "output_type": "execute_result"
    }
   ],
   "source": [
    "df3['city'].value_counts().to_frame()"
   ]
  },
  {
   "cell_type": "code",
   "execution_count": 17,
   "id": "39aeca25",
   "metadata": {
    "ExecuteTime": {
     "end_time": "2023-11-25T10:14:15.309603Z",
     "start_time": "2023-11-25T10:14:15.297095Z"
    }
   },
   "outputs": [
    {
     "data": {
      "text/plain": [
       "<bound method Series.mode of 0         0.0\n",
       "1         0.0\n",
       "2         0.0\n",
       "3         0.0\n",
       "4         0.0\n",
       "        ...  \n",
       "751    2019.0\n",
       "752    2019.0\n",
       "753    2019.0\n",
       "754    2019.0\n",
       "755    2019.0\n",
       "Name: season, Length: 179834, dtype: float64>"
      ]
     },
     "execution_count": 17,
     "metadata": {},
     "output_type": "execute_result"
    }
   ],
   "source": [
    "df3['season'].mode"
   ]
  },
  {
   "cell_type": "code",
   "execution_count": 18,
   "id": "d960792a",
   "metadata": {
    "ExecuteTime": {
     "end_time": "2023-11-25T10:14:15.335714Z",
     "start_time": "2023-11-25T10:14:15.309603Z"
    }
   },
   "outputs": [
    {
     "data": {
      "text/html": [
       "<div>\n",
       "<style scoped>\n",
       "    .dataframe tbody tr th:only-of-type {\n",
       "        vertical-align: middle;\n",
       "    }\n",
       "\n",
       "    .dataframe tbody tr th {\n",
       "        vertical-align: top;\n",
       "    }\n",
       "\n",
       "    .dataframe thead th {\n",
       "        text-align: right;\n",
       "    }\n",
       "</style>\n",
       "<table border=\"1\" class=\"dataframe\">\n",
       "  <thead>\n",
       "    <tr style=\"text-align: right;\">\n",
       "      <th></th>\n",
       "      <th>season</th>\n",
       "    </tr>\n",
       "  </thead>\n",
       "  <tbody>\n",
       "    <tr>\n",
       "      <th>0.0</th>\n",
       "      <td>179078</td>\n",
       "    </tr>\n",
       "    <tr>\n",
       "      <th>2013.0</th>\n",
       "      <td>76</td>\n",
       "    </tr>\n",
       "    <tr>\n",
       "      <th>2012.0</th>\n",
       "      <td>74</td>\n",
       "    </tr>\n",
       "    <tr>\n",
       "      <th>2011.0</th>\n",
       "      <td>73</td>\n",
       "    </tr>\n",
       "    <tr>\n",
       "      <th>2010.0</th>\n",
       "      <td>60</td>\n",
       "    </tr>\n",
       "    <tr>\n",
       "      <th>2014.0</th>\n",
       "      <td>60</td>\n",
       "    </tr>\n",
       "    <tr>\n",
       "      <th>2016.0</th>\n",
       "      <td>60</td>\n",
       "    </tr>\n",
       "    <tr>\n",
       "      <th>2018.0</th>\n",
       "      <td>60</td>\n",
       "    </tr>\n",
       "    <tr>\n",
       "      <th>2019.0</th>\n",
       "      <td>60</td>\n",
       "    </tr>\n",
       "    <tr>\n",
       "      <th>2017.0</th>\n",
       "      <td>59</td>\n",
       "    </tr>\n",
       "    <tr>\n",
       "      <th>2015.0</th>\n",
       "      <td>59</td>\n",
       "    </tr>\n",
       "    <tr>\n",
       "      <th>2008.0</th>\n",
       "      <td>58</td>\n",
       "    </tr>\n",
       "    <tr>\n",
       "      <th>2009.0</th>\n",
       "      <td>57</td>\n",
       "    </tr>\n",
       "  </tbody>\n",
       "</table>\n",
       "</div>"
      ],
      "text/plain": [
       "        season\n",
       "0.0     179078\n",
       "2013.0      76\n",
       "2012.0      74\n",
       "2011.0      73\n",
       "2010.0      60\n",
       "2014.0      60\n",
       "2016.0      60\n",
       "2018.0      60\n",
       "2019.0      60\n",
       "2017.0      59\n",
       "2015.0      59\n",
       "2008.0      58\n",
       "2009.0      57"
      ]
     },
     "execution_count": 18,
     "metadata": {},
     "output_type": "execute_result"
    }
   ],
   "source": [
    "df3['season'].value_counts().to_frame()"
   ]
  },
  {
   "cell_type": "code",
   "execution_count": 19,
   "id": "fe3b252c",
   "metadata": {
    "ExecuteTime": {
     "end_time": "2023-11-25T10:14:15.394463Z",
     "start_time": "2023-11-25T10:14:15.340195Z"
    }
   },
   "outputs": [
    {
     "data": {
      "text/plain": [
       "Chennai Super Kings            11\n",
       "Royal Challengers Bangalore    10\n",
       "Mumbai Indians                 10\n",
       "Kolkata Knight Riders           8\n",
       "Kings XI Punjab                 7\n",
       "Rajasthan Royals                6\n",
       "Deccan Chargers                 6\n",
       "Kochi Tuskers Kerala            6\n",
       "Pune Warriors                   4\n",
       "Delhi Daredevils                4\n",
       "0                               1\n",
       "Name: winner, dtype: int64"
      ]
     },
     "execution_count": 19,
     "metadata": {},
     "output_type": "execute_result"
    }
   ],
   "source": [
    "df3[df3['season']==2011]['winner'].value_counts()"
   ]
  },
  {
   "cell_type": "code",
   "execution_count": 20,
   "id": "b3884881",
   "metadata": {
    "ExecuteTime": {
     "end_time": "2023-11-25T10:14:15.427716Z",
     "start_time": "2023-11-25T10:14:15.397803Z"
    }
   },
   "outputs": [
    {
     "data": {
      "text/plain": [
       "0        179078\n",
       "field       463\n",
       "bat         293\n",
       "Name: toss_decision, dtype: int64"
      ]
     },
     "execution_count": 20,
     "metadata": {},
     "output_type": "execute_result"
    }
   ],
   "source": [
    "df3['toss_decision'].value_counts()"
   ]
  },
  {
   "cell_type": "code",
   "execution_count": 21,
   "id": "717efe2f",
   "metadata": {
    "ExecuteTime": {
     "end_time": "2023-11-25T10:14:15.932224Z",
     "start_time": "2023-11-25T10:14:15.429291Z"
    }
   },
   "outputs": [
    {
     "name": "stderr",
     "output_type": "stream",
     "text": [
      "C:\\ProgramData\\Anaconda3\\lib\\site-packages\\seaborn\\_decorators.py:36: FutureWarning: Pass the following variable as a keyword arg: x. From version 0.12, the only valid positional argument will be `data`, and passing other arguments without an explicit keyword will result in an error or misinterpretation.\n",
      "  warnings.warn(\n"
     ]
    },
    {
     "data": {
      "text/plain": [
       "<AxesSubplot:xlabel='toss_decision', ylabel='count'>"
      ]
     },
     "execution_count": 21,
     "metadata": {},
     "output_type": "execute_result"
    },
    {
     "data": {
      "image/png": "[encoded data removed]",
      "text/plain": [
       "<Figure size 640x480 with 1 Axes>"
      ]
     },
     "metadata": {},
     "output_type": "display_data"
    }
   ],
   "source": [
    "sns.countplot(df3['toss_decision'])"
   ]
  },
  {
   "cell_type": "code",
   "execution_count": 22,
   "id": "8882c1a2",
   "metadata": {
    "ExecuteTime": {
     "end_time": "2023-11-25T10:14:16.063124Z",
     "start_time": "2023-11-25T10:14:15.935474Z"
    }
   },
   "outputs": [
    {
     "data": {
      "text/plain": [
       "<AxesSubplot:>"
      ]
     },
     "execution_count": 22,
     "metadata": {},
     "output_type": "execute_result"
    },
    {
     "data": {
      "image/png": "[encoded data removed]",
      "text/plain": [
       "<Figure size 640x480 with 1 Axes>"
      ]
     },
     "metadata": {},
     "output_type": "display_data"
    }
   ],
   "source": [
    "df3['toss_decision'].value_counts().plot(kind='bar', color='m')"
   ]
  },
  {
   "cell_type": "code",
   "execution_count": 23,
   "id": "1463b4d9",
   "metadata": {
    "ExecuteTime": {
     "end_time": "2023-11-25T10:14:16.155767Z",
     "start_time": "2023-11-25T10:14:16.068706Z"
    }
   },
   "outputs": [
    {
     "data": {
      "text/plain": [
       "<AxesSubplot:ylabel='toss_decision'>"
      ]
     },
     "execution_count": 23,
     "metadata": {},
     "output_type": "execute_result"
    },
    {
     "data": {
      "image/png": "[encoded data removed]",
      "text/plain": [
       "<Figure size 640x480 with 1 Axes>"
      ]
     },
     "metadata": {},
     "output_type": "display_data"
    }
   ],
   "source": [
    "df3[\"toss_decision\"].value_counts().plot.pie()"
   ]
  },
  {
   "cell_type": "code",
   "execution_count": 24,
   "id": "2e18e67c",
   "metadata": {
    "ExecuteTime": {
     "end_time": "2023-11-25T10:14:16.261035Z",
     "start_time": "2023-11-25T10:14:16.158703Z"
    }
   },
   "outputs": [
    {
     "data": {
      "text/plain": [
       "<AxesSubplot:ylabel='toss_decision'>"
      ]
     },
     "execution_count": 24,
     "metadata": {},
     "output_type": "execute_result"
    },
    {
     "data": {
      "image/png": "[encoded data removed]",
      "text/plain": [
       "<Figure size 640x480 with 1 Axes>"
      ]
     },
     "metadata": {},
     "output_type": "display_data"
    }
   ],
   "source": [
    "df3['toss_decision'].value_counts().plot.pie(autopct='%1.1f%%', startangle=90)"
   ]
  },
  {
   "cell_type": "code",
   "execution_count": 25,
   "id": "2007e434",
   "metadata": {
    "ExecuteTime": {
     "end_time": "2023-11-25T10:14:16.346436Z",
     "start_time": "2023-11-25T10:14:16.264371Z"
    }
   },
   "outputs": [
    {
     "data": {
      "text/plain": [
       "<AxesSubplot:ylabel='toss_decision'>"
      ]
     },
     "execution_count": 25,
     "metadata": {},
     "output_type": "execute_result"
    },
    {
     "data": {
      "image/png": "[encoded data removed]",
      "text/plain": [
       "<Figure size 640x480 with 1 Axes>"
      ]
     },
     "metadata": {},
     "output_type": "display_data"
    }
   ],
   "source": [
    "df2['toss_decision'].value_counts().plot.pie(autopct='%1.1f%%', startangle=90)"
   ]
  },
  {
   "cell_type": "code",
   "execution_count": 26,
   "id": "a85eaa1e",
   "metadata": {
    "ExecuteTime": {
     "end_time": "2023-11-25T10:14:16.363313Z",
     "start_time": "2023-11-25T10:14:16.349517Z"
    }
   },
   "outputs": [
    {
     "data": {
      "text/plain": [
       "AD Russell         4\n",
       "MS Dhoni           3\n",
       "RR Pant            3\n",
       "JJ Bumrah          3\n",
       "HH Pandya          3\n",
       "Harbhajan Singh    2\n",
       "DA Warner          2\n",
       "AB de Villiers     2\n",
       "KL Rahul           2\n",
       "S Dhawan           2\n",
       "J Bairstow         2\n",
       "SR Watson          2\n",
       "R Ashwin           1\n",
       "AS Yadav           1\n",
       "S Hetmyer          1\n",
       "A Mishra           1\n",
       "S Gill             1\n",
       "JD Unadkat         1\n",
       "RG Sharma          1\n",
       "VR Aaron           1\n",
       "PA Patel           1\n",
       "K Ahmed            1\n",
       "SS Iyer            1\n",
       "SPD Smith          1\n",
       "V Kohli            1\n",
       "CH Gayle           1\n",
       "SL Malinga         1\n",
       "S Curran           1\n",
       "K Paul             1\n",
       "Imran Tahir        1\n",
       "JC Buttler         1\n",
       "Rashid Khan        1\n",
       "KA Pollard         1\n",
       "DL Chahar          1\n",
       "MA Agarwal         1\n",
       "H Gurney           1\n",
       "K Rabada           1\n",
       "A Joseph           1\n",
       "P Shaw             1\n",
       "S Gopal            1\n",
       "F du Plessis       1\n",
       "Name: player_of_match, dtype: int64"
      ]
     },
     "execution_count": 26,
     "metadata": {},
     "output_type": "execute_result"
    }
   ],
   "source": [
    "df2[df2['season']==2019]['player_of_match'].value_counts()"
   ]
  },
  {
   "cell_type": "code",
   "execution_count": 27,
   "id": "f300910e",
   "metadata": {
    "ExecuteTime": {
     "end_time": "2023-11-25T10:14:16.394326Z",
     "start_time": "2023-11-25T10:14:16.366627Z"
    }
   },
   "outputs": [
    {
     "data": {
      "text/plain": [
       "0    Harbhajan Singh\n",
       "Name: bowler, dtype: object"
      ]
     },
     "execution_count": 27,
     "metadata": {},
     "output_type": "execute_result"
    }
   ],
   "source": [
    "df3['bowler'].mode()"
   ]
  },
  {
   "cell_type": "code",
   "execution_count": 28,
   "id": "c5ed20a0",
   "metadata": {
    "ExecuteTime": {
     "end_time": "2023-11-25T10:14:16.411408Z",
     "start_time": "2023-11-25T10:14:16.396560Z"
    }
   },
   "outputs": [
    {
     "data": {
      "text/plain": [
       "0    0.0\n",
       "Name: win_by_wickets, dtype: float64"
      ]
     },
     "execution_count": 28,
     "metadata": {},
     "output_type": "execute_result"
    }
   ],
   "source": [
    "df3['win_by_wickets'].mode()"
   ]
  },
  {
   "cell_type": "code",
   "execution_count": 29,
   "id": "9262df5b",
   "metadata": {
    "ExecuteTime": {
     "end_time": "2023-11-25T10:14:16.462378Z",
     "start_time": "2023-11-25T10:14:16.415122Z"
    }
   },
   "outputs": [],
   "source": [
    "max_extras_bowlers = df3.groupby('bowler')['extra_runs'].sum().idxmax()\n",
    "max_extras = df3.groupby('bowler')['extra_runs'].sum().max()"
   ]
  },
  {
   "cell_type": "code",
   "execution_count": 30,
   "id": "bfb1a238",
   "metadata": {
    "ExecuteTime": {
     "end_time": "2023-11-25T10:14:16.478849Z",
     "start_time": "2023-11-25T10:14:16.465391Z"
    }
   },
   "outputs": [
    {
     "data": {
      "text/plain": [
       "'SL Malinga'"
      ]
     },
     "execution_count": 30,
     "metadata": {},
     "output_type": "execute_result"
    }
   ],
   "source": [
    "max_extras_bowlers"
   ]
  },
  {
   "cell_type": "code",
   "execution_count": 31,
   "id": "fdf8d7af",
   "metadata": {
    "ExecuteTime": {
     "end_time": "2023-11-25T10:14:16.491593Z",
     "start_time": "2023-11-25T10:14:16.481577Z"
    }
   },
   "outputs": [
    {
     "data": {
      "text/plain": [
       "0    Eden Gardens\n",
       "Name: venue, dtype: object"
      ]
     },
     "execution_count": 31,
     "metadata": {},
     "output_type": "execute_result"
    }
   ],
   "source": [
    "df2['venue'].mode()"
   ]
  },
  {
   "cell_type": "code",
   "execution_count": 32,
   "id": "1742cab5",
   "metadata": {
    "ExecuteTime": {
     "end_time": "2023-11-25T10:14:16.513119Z",
     "start_time": "2023-11-25T10:14:16.492790Z"
    }
   },
   "outputs": [
    {
     "data": {
      "text/plain": [
       "'Yuvraj Singh'"
      ]
     },
     "execution_count": 32,
     "metadata": {},
     "output_type": "execute_result"
    }
   ],
   "source": [
    "match_2017 = df2[(df2['season'] == 2017) & (((df2['team1'] == 'Sunrisers Hyderabad') & (df2['team2'] == 'Royal Challengers Bangalore')) | ((df2['team1'] == 'Royal Challengers Bangalore') & (df2['team2'] == 'Sunrisers Hyderabad'))) ]\n",
    "\n",
    "player_of_the_match = match_2017['player_of_match'].iloc[0]\n",
    "\n",
    "player_of_the_match"
   ]
  },
  {
   "cell_type": "code",
   "execution_count": 33,
   "id": "82266c17",
   "metadata": {
    "ExecuteTime": {
     "end_time": "2023-11-25T10:14:16.528966Z",
     "start_time": "2023-11-25T10:14:16.514022Z"
    }
   },
   "outputs": [
    {
     "data": {
      "text/plain": [
       "Index(['match_id', 'inning', 'batting_team', 'bowling_team', 'over', 'ball',\n",
       "       'batsman', 'non_striker', 'bowler', 'is_super_over', 'wide_runs',\n",
       "       'bye_runs', 'legbye_runs', 'noball_runs', 'penalty_runs',\n",
       "       'batsman_runs', 'extra_runs', 'total_runs', 'player_dismissed',\n",
       "       'dismissal_kind', 'fielder', 'id', 'season', 'city', 'date', 'team1',\n",
       "       'team2', 'toss_winner', 'toss_decision', 'result', 'dl_applied',\n",
       "       'winner', 'win_by_runs', 'win_by_wickets', 'player_of_match', 'venue',\n",
       "       'umpire1', 'umpire2', 'umpire3'],\n",
       "      dtype='object')"
      ]
     },
     "execution_count": 33,
     "metadata": {},
     "output_type": "execute_result"
    }
   ],
   "source": [
    "df3.columns"
   ]
  },
  {
   "cell_type": "code",
   "execution_count": 34,
   "id": "92da3bce",
   "metadata": {
    "ExecuteTime": {
     "end_time": "2023-11-25T10:14:16.560496Z",
     "start_time": "2023-11-25T10:14:16.532558Z"
    }
   },
   "outputs": [
    {
     "data": {
      "text/plain": [
       "batsman\n",
       "MS Dhoni      21\n",
       "RG Sharma     17\n",
       "KD Karthik    16\n",
       "Name: player_dismissed, dtype: int64"
      ]
     },
     "execution_count": 34,
     "metadata": {},
     "output_type": "execute_result"
    }
   ],
   "source": [
    "run_outs = df3[(df3['dismissal_kind'] == 'run out')]\n",
    "\n",
    "run_out_counts = run_outs.groupby('batsman')['player_dismissed'].count()\n",
    "\n",
    "top_three_batsmen_run_outs = run_out_counts.nlargest(3)\n",
    "\n",
    "top_three_batsmen_run_outs"
   ]
  },
  {
   "cell_type": "code",
   "execution_count": 35,
   "id": "d8ead5c7",
   "metadata": {
    "ExecuteTime": {
     "end_time": "2023-11-25T10:14:16.596395Z",
     "start_time": "2023-11-25T10:14:16.563506Z"
    }
   },
   "outputs": [
    {
     "data": {
      "text/plain": [
       "112.0"
      ]
     },
     "execution_count": 35,
     "metadata": {},
     "output_type": "execute_result"
    }
   ],
   "source": [
    "kohli_vs_bumrah = df3[(df3['batsman'] == 'V Kohli') & (df3['bowler'] == 'JJ Bumrah')]\n",
    "\n",
    "total_runs_kohli_vs_bumrah = kohli_vs_bumrah['batsman_runs'].sum()\n",
    "\n",
    "total_runs_kohli_vs_bumrah"
   ]
  },
  {
   "cell_type": "code",
   "execution_count": 36,
   "id": "e568442a",
   "metadata": {
    "ExecuteTime": {
     "end_time": "2023-11-25T10:14:16.629771Z",
     "start_time": "2023-11-25T10:14:16.599365Z"
    }
   },
   "outputs": [
    {
     "data": {
      "text/plain": [
       "'SK Raina'"
      ]
     },
     "execution_count": 36,
     "metadata": {},
     "output_type": "execute_result"
    }
   ],
   "source": [
    "caught_and_bowled_dismissals = df3[df3['dismissal_kind'] == 'caught and bowled']\n",
    "\n",
    "dismissal_counts = caught_and_bowled_dismissals.groupby('player_dismissed')['dismissal_kind'].count()\n",
    "\n",
    "max_dismissals_player = dismissal_counts.idxmax()\n",
    "max_dismissals_count = dismissal_counts.max()\n",
    "\n",
    "max_dismissals_player"
   ]
  }
 ],
 "metadata": {
  "kernelspec": {
   "display_name": "Python 3 (ipykernel)",
   "language": "python",
   "name": "python3"
  },
  "language_info": {
   "codemirror_mode": {
    "name": "ipython",
    "version": 3
   },
   "file_extension": ".py",
   "mimetype": "text/x-python",
   "name": "python",
   "nbconvert_exporter": "python",
   "pygments_lexer": "ipython3",
   "version": "3.9.13"
  }
 },
 "nbformat": 4,
 "nbformat_minor": 5
}
